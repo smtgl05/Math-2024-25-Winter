{
  "cells": [
    {
      "cell_type": "markdown",
      "metadata": {
        "id": "WteJteuyYbpL"
      },
      "source": [
        "## Tasks related to conic sections\n",
        "\n",
        "**Visualize each task.** - Python, GeoGebra, Wolfram Alpha, ...\n",
        "\n",
        "* Find the equation of a circle with center at point $A(1,2)$ and radius $r=3$.\n",
        "* Find the equation of a parabola intersecting the $Ox$ axis at points $x=2$, $x=4$, and passing through point $y(3)=1$.\n",
        "* Find the center of the ellipse with the equation $x^2 + 4y^2 - 4x - 16y + 16 = 0$.\n",
        "* Find the slope ($m>0$) of the line $y=mx-5$ that is tangent to the circle with the equation $x^2 + y^2=1$.\n",
        "* Find the intersection points of the hyperbola $x^2 - y^2 = 1$ with the ellipse's line $x^2 + 4y^2 = 6$.\n",
        "* For the given hyperbola $x^2 - y^2 = 1$, find the distance between its branches."
      ]
    },
    {
      "cell_type": "code",
      "execution_count": null,
      "metadata": {
        "colab": {
          "base_uri": "https://localhost:8080/"
        },
        "id": "Uquh91JqYeLs",
        "outputId": "5aee12fc-b601-4d1f-9210-e6df75f17141"
      },
      "outputs": [
        {
          "name": "stdout",
          "output_type": "stream",
          "text": [
            "(x - 1)^2 + (y - 2)^2 = 9\n"
          ]
        }
      ],
      "source": [
        "# Given values\n",
        "A = (1, 2)  # center of the circle\n",
        "r = 3  # radius of the circle\n",
        "\n",
        "# Equation of the circle: (x - h)^2 + (y - k)^2 = r^2\n",
        "# Center is at A(1, 2), and radius is 3\n",
        "\n",
        "# Define the circle equation\n",
        "circle_equation = f\"(x - {A[0]})^2 + (y - {A[1]})^2 = {r**2}\"\n",
        "\n",
        "# Output the equation of the circle\n",
        "print(circle_equation)\n"
      ]
    },
    {
      "cell_type": "code",
      "execution_count": null,
      "metadata": {
        "colab": {
          "base_uri": "https://localhost:8080/"
        },
        "id": "BcdO9YtaokFy",
        "outputId": "94e1ba59-d6b6-42f1-9356-9e17a891434a"
      },
      "outputs": [
        {
          "name": "stdout",
          "output_type": "stream",
          "text": [
            "The equation of the parabola is: y = -(x - 4)*(x - 2)\n"
          ]
        }
      ],
      "source": [
        "import sympy as sp\n",
        "\n",
        "# Define variables\n",
        "x, a = sp.symbols('x a')\n",
        "\n",
        "# Parabola equation in factored form\n",
        "parabola = a * (x - 2) * (x - 4)\n",
        "\n",
        "# Given point (x=3, y=1)\n",
        "equation = parabola.subs(x, 3) - 1\n",
        "\n",
        "# Solve for 'a'\n",
        "a_value = sp.solve(equation, a)\n",
        "\n",
        "# Substitute 'a' back into the parabola equation\n",
        "parabola_equation = parabola.subs(a, a_value[0])\n",
        "\n",
        "# Simplify the equation\n",
        "parabola_equation_simplified = sp.simplify(parabola_equation)\n",
        "\n",
        "# Print the result\n",
        "print(f\"The equation of the parabola is: y = {parabola_equation_simplified}\")\n"
      ]
    },
    {
      "cell_type": "code",
      "execution_count": null,
      "metadata": {
        "colab": {
          "base_uri": "https://localhost:8080/"
        },
        "id": "ae9nfhxLoz__",
        "outputId": "6e664a7d-50d9-4c34-b283-3324f5a8d99c"
      },
      "outputs": [
        {
          "name": "stdout",
          "output_type": "stream",
          "text": [
            "The completed equation is: x*(x - 4) + 4*y*(y - 4) + 16\n"
          ]
        }
      ],
      "source": [
        "import sympy as sp\n",
        "\n",
        "# Define variables\n",
        "x, y = sp.symbols('x y')\n",
        "\n",
        "# Given equation\n",
        "equation = x**2 + 4*y**2 - 4*x - 16*y + 16\n",
        "\n",
        "# Completing the square for x terms\n",
        "x_terms = x**2 - 4*x\n",
        "completed_x = sp.simplify((x - 2)**2 - 4)\n",
        "\n",
        "# Completing the square for y terms\n",
        "y_terms = 4*y**2 - 16*y\n",
        "completed_y = sp.simplify(4*((y - 2)**2 - 4))\n",
        "\n",
        "# Substitute back into the equation\n",
        "completed_equation = completed_x + completed_y + 16\n",
        "\n",
        "# Simplifying the equation\n",
        "simplified_equation = sp.simplify(completed_equation)\n",
        "\n",
        "# Display the completed equation in standard form\n",
        "print(\"The completed equation is:\", simplified_equation)\n"
      ]
    },
    {
      "cell_type": "code",
      "execution_count": null,
      "metadata": {
        "colab": {
          "base_uri": "https://localhost:8080/"
        },
        "id": "bJeJEOdtpbHH",
        "outputId": "713ff73a-7687-4f90-be1f-dd99185bd060"
      },
      "outputs": [
        {
          "name": "stdout",
          "output_type": "stream",
          "text": [
            "The positive slope of the tangent line is: 2*sqrt(6)\n"
          ]
        }
      ],
      "source": [
        "import sympy as sp\n",
        "\n",
        "# Define variable\n",
        "m = sp.symbols('m')\n",
        "\n",
        "# Distance equation\n",
        "equation = sp.Eq(5 / sp.sqrt(m**2 + 1), 1)\n",
        "\n",
        "# Solve for m\n",
        "slope_solution = sp.solve(equation, m)\n",
        "\n",
        "# Filter for positive slope\n",
        "positive_slope = [s for s in slope_solution if s > 0]\n",
        "\n",
        "# Display the result\n",
        "print(f\"The positive slope of the tangent line is: {positive_slope[0]}\")\n"
      ]
    },
    {
      "cell_type": "code",
      "execution_count": null,
      "metadata": {
        "colab": {
          "base_uri": "https://localhost:8080/"
        },
        "id": "29CPHBGFpoc0",
        "outputId": "955509e3-9566-4571-9574-5784756b7272"
      },
      "outputs": [
        {
          "data": {
            "text/plain": [
              "[(-sqrt(2), -1), (-sqrt(2), 1), (sqrt(2), -1), (sqrt(2), 1)]"
            ]
          },
          "execution_count": 4,
          "metadata": {},
          "output_type": "execute_result"
        }
      ],
      "source": [
        "import sympy as sp\n",
        "\n",
        "# Define variables\n",
        "x, y = sp.symbols('x y')\n",
        "\n",
        "# Equations of the hyperbola and the ellipse\n",
        "hyperbola = sp.Eq(x**2 - y**2, 1)\n",
        "ellipse = sp.Eq(x**2 + 4*y**2, 6)\n",
        "\n",
        "# Solve the system of equations\n",
        "solution = sp.solve([hyperbola, ellipse], (x, y))\n",
        "\n",
        "# Display the intersection points\n",
        "solution\n"
      ]
    },
    {
      "cell_type": "code",
      "execution_count": null,
      "metadata": {
        "colab": {
          "base_uri": "https://localhost:8080/"
        },
        "id": "kos5luR_pxNz",
        "outputId": "7e9962bd-c244-4323-acee-8eb6ccff11a4"
      },
      "outputs": [
        {
          "name": "stdout",
          "output_type": "stream",
          "text": [
            "The distance between the branches of the hyperbola is: 2\n"
          ]
        }
      ],
      "source": [
        "# Given parameters\n",
        "a = 1\n",
        "b = 1\n",
        "\n",
        "# Distance between the branches\n",
        "distance = 2 * b\n",
        "print(f\"The distance between the branches of the hyperbola is: {distance}\")\n"
      ]
    },
    {
      "cell_type": "markdown",
      "metadata": {
        "id": "3lYHPAmdSyCq"
      },
      "source": [
        "x^2 - y^2 = 1\n",
        "x^2 + 4y^2 = 6\n",
        "\n",
        "x^2 = y^2 + 1\n",
        "\n",
        "(y^2 + 1) + 4y^2 = 6\n",
        "5y^2 + 1 = 6\n",
        "5y^2 = 5\n",
        "y^2 = 1\n",
        "y = ±1\n",
        "\n",
        "y = 1: x^2 = 2, x = ±√2\n",
        "y = -1: x^2 = 2, x = ±√2\n",
        "\n",
        "(√2, 1), (-√2, 1), (√2, -1), (-√2, -1)\n"
      ]
    }
  ],
  "metadata": {
    "colab": {
      "provenance": []
    },
    "kernelspec": {
      "display_name": "Python 3",
      "name": "python3"
    },
    "language_info": {
      "name": "python"
    }
  },
  "nbformat": 4,
  "nbformat_minor": 0
}
