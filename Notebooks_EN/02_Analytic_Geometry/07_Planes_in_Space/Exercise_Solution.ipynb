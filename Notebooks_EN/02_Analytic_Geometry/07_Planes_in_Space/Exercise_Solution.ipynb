{
  "cells": [
    {
      "cell_type": "markdown",
      "metadata": {
        "id": "YBha9MC0howb"
      },
      "source": []
    },
    {
      "cell_type": "markdown",
      "metadata": {
        "id": "ExMbHEYWrARv"
      },
      "source": [
        "# Geometry: Planes and Lines in Space\n",
        "\n",
        "---\n",
        "\n",
        "## 1. Planes\n",
        "\n",
        "### Vector Equation of a Plane\n",
        "The vector equation of a plane can be expressed as:\n",
        "\n",
        "$$\n",
        "\\vec{r} \\cdot \\vec{n} = d\n",
        "$$\n",
        "\n",
        "Where:\n",
        "- $\\vec{r}$ is the position vector of a point on the plane.\n",
        "- $\\vec{n}$ is the normal vector to the plane.\n",
        "- $d$ is the perpendicular distance from the origin to the plane.\n",
        "\n",
        "---\n",
        "\n",
        "### General Equation of a Plane\n",
        "The general equation of a plane in Cartesian coordinates is:\n",
        "\n",
        "$$\n",
        "Ax + By + Cz + D = 0\n",
        "$$\n",
        "\n",
        "Where:\n",
        "- $A, B, C$ are the components of the normal vector $\\vec{n}$.\n",
        "- $D$ is a constant.\n",
        "\n",
        "---\n",
        "\n",
        "### Plane Equation Passing Through Three Points\n",
        "Given three points $A(x_1, y_1, z_1)$, $B(x_2, y_2, z_2)$, $C(x_3, y_3, z_3)$:\n",
        "1. Form two vectors: $\\vec{AB}$ and $\\vec{AC}$.\n",
        "2. Take the cross product: $\\vec{AB} \\times \\vec{AC} = \\vec{n}$, which gives the normal vector.\n",
        "3. Use the point-normal form: $\\vec{n} \\cdot (\\vec{r} - \\vec{r}_0) = 0$, where $\\vec{r}_0$ is the position vector of one point.\n",
        "\n",
        "---\n",
        "\n",
        "### Plane Equation in Intercept Form\n",
        "For a plane that intercepts the axes at $(a, 0, 0)$, $(0, b, 0)$, $(0, 0, c)$, the equation is:\n",
        "\n",
        "$$\n",
        "\\frac{x}{a} + \\frac{y}{b} + \\frac{z}{c} = 1\n",
        "$$\n",
        "\n",
        "---\n",
        "\n",
        "### Special Cases of Plane Positioning\n",
        "- **Parallel to the coordinate planes:**\n",
        "  - $z = k$: Parallel to the $xy$-plane.\n",
        "  - $y = k$: Parallel to the $xz$-plane.\n",
        "  - $x = k$: Parallel to the $yz$-plane.\n",
        "\n",
        "---\n",
        "\n",
        "## 2. Angle Between Two Planes\n",
        "The angle $\\theta$ between two planes is given by:\n",
        "\n",
        "$$\n",
        "\\cos\\theta = \\frac{|\\vec{n}_1 \\cdot \\vec{n}_2|}{||\\vec{n}_1|| \\cdot ||\\vec{n}_2||}\n",
        "$$\n",
        "\n",
        "Where $\\vec{n}_1$ and $\\vec{n}_2$ are the normal vectors of the planes.\n",
        "\n",
        "---\n",
        "\n",
        "## 3. Conditions for Parallelism and Perpendicularity of Two Planes\n",
        "- **Parallel planes:** Their normal vectors are proportional: $\\vec{n}_1 \\parallel \\vec{n}_2$.\n",
        "- **Perpendicular planes:** Their normal vectors are orthogonal: $\\vec{n}_1 \\cdot \\vec{n}_2 = 0$.\n",
        "\n",
        "---\n",
        "\n",
        "## 4. Line in Space\n",
        "\n",
        "### Types of Line Equations in Space\n",
        "- **Vector form:**\n",
        "\n",
        "$$\n",
        "\\vec{r} = \\vec{r}_0 + t\\vec{d}\n",
        "$$\n",
        "\n",
        "Where $\\vec{r}_0$ is a point on the line, $\\vec{d}$ is the direction vector, and $t$ is a scalar.\n",
        "\n",
        "- **Parametric form:**\n",
        "\n",
        "$$\n",
        "x = x_0 + at, \\quad y = y_0 + bt, \\quad z = z_0 + ct\n",
        "$$\n",
        "\n",
        "Where $(a, b, c)$ are the components of the direction vector $\\vec{d}$.\n",
        "\n",
        "- **Symmetric form:**\n",
        "\n",
        "$$\n",
        "\\frac{x - x_0}{a} = \\frac{y - y_0}{b} = \\frac{z - z_0}{c}\n",
        "$$\n",
        "\n",
        "---\n",
        "\n",
        "## 5. Relative Positions of a Line and a Plane\n",
        "The relative position depends on:\n",
        "1. Substituting the parametric equation of the line into the plane equation.\n",
        "   - If a solution exists: The line intersects the plane.\n",
        "   - If no solution: The line is parallel to the plane.\n",
        "2. If the direction vector of the line is orthogonal to the normal vector of the plane: The line lies on the plane.\n",
        "\n",
        "---\n",
        "\n",
        "## 6. Relative Positions of Two Lines\n",
        "- **Skew lines:** Lines do not intersect and are not parallel.\n",
        "- **Parallel lines:** Direction vectors are proportional.\n",
        "- **Intersecting lines:** Solve the system of equations formed by their parametric forms.\n",
        "\n",
        "---\n",
        "\n",
        "## 7. Angle Between a Line and a Plane\n",
        "The angle $\\theta$ between a line and a plane is:\n",
        "\n",
        "$$\n",
        "\\sin\\theta = \\frac{|\\vec{d} \\cdot \\vec{n}|}{||\\vec{d}|| \\cdot ||\\vec{n}||}\n",
        "$$\n",
        "\n",
        "Where $\\vec{d}$ is the direction vector of the line and $\\vec{n}$ is the normal vector of the plane.\n",
        "\n",
        "---\n",
        "\n",
        "This version uses `$` for inline math and `$$` for block math, ensuring clean formatting for GitHub or Markdown-friendly platforms. Let me know if you'd like additional refinements! 😊\n",
        "\n",
        "### Additional Notes\n",
        "You can directly use these equations in Python libraries like SymPy for symbolic computation or NumPy for numerical analysis in a Colab notebook.\n",
        "\n"
      ]
    },
    {
      "cell_type": "markdown",
      "metadata": {
        "id": "6-kVkPFog8NZ"
      },
      "source": [
        "# Exercies copied from github markdowns!\n",
        "\n",
        "(that are no openable in colab!) We like everything in one place, so visit your github directly in browser and just enter edit and copy markdown code."
      ]
    },
    {
      "cell_type": "markdown",
      "metadata": {
        "id": "3wgcdwT5hFQH"
      },
      "source": [
        "# Solutions\n",
        "\n",
        "Text..."
      ]
    },
    {
      "cell_type": "code",
      "execution_count": null,
      "metadata": {
        "id": "10d31Md6siTr"
      },
      "outputs": [],
      "source": [
        "import sympy as sp\n",
        "from sympy import Matrix, Plane, Point3D\n",
        "from sympy.plotting import plot3d_parametric_line"
      ]
    },
    {
      "cell_type": "code",
      "execution_count": null,
      "metadata": {
        "colab": {
          "base_uri": "https://localhost:8080/"
        },
        "id": "LqItIWt0g7mb",
        "outputId": "d0f8d6ed-9a42-4f02-9ead-b83fc0d5f46c"
      },
      "outputs": [
        {
          "name": "stdout",
          "output_type": "stream",
          "text": [
            "Equation of the plane passing through A, B, C: 4*x - 4*z + 8\n"
          ]
        }
      ],
      "source": [
        "# 1.\n",
        "A = Point3D(1, 2, 3)\n",
        "B = Point3D(3, 4, 5)\n",
        "C = Point3D(2, 1, 4)\n",
        "plane1 = Plane(A, B, C)\n",
        "print(\"Equation of the plane passing through A, B, C:\", plane1.equation())"
      ]
    },
    {
      "cell_type": "code",
      "execution_count": null,
      "metadata": {
        "colab": {
          "base_uri": "https://localhost:8080/"
        },
        "id": "3IBbS7HasWPU",
        "outputId": "6041faf7-a103-46f6-a285-6f1dc87cf290"
      },
      "outputs": [
        {
          "name": "stdout",
          "output_type": "stream",
          "text": [
            "Equation of the plane through A and parallel to 2x + 3y + 4z = 5: 2*x + 3*y + 4*z - 20\n"
          ]
        }
      ],
      "source": [
        "# 2.\n",
        "plane2 = Plane(A, normal_vector=(2, 3, 4))\n",
        "print(\"Equation of the plane through A and parallel to 2x + 3y + 4z = 5:\", plane2.equation())"
      ]
    },
    {
      "cell_type": "code",
      "execution_count": null,
      "metadata": {
        "colab": {
          "base_uri": "https://localhost:8080/"
        },
        "id": "vgH7Tiobsci8",
        "outputId": "b2fbad8e-bac4-433f-8e37-e0ad063e2d2e"
      },
      "outputs": [
        {
          "name": "stdout",
          "output_type": "stream",
          "text": [
            "Equation of the plane through A and perpendicular to [2, 3, 4]: 2*x + 3*y + 4*z - 20\n"
          ]
        }
      ],
      "source": [
        "# 3.\n",
        "n = Matrix([2, 3, 4])\n",
        "d = -n.dot(Matrix([1, 2, 3]))\n",
        "plane3 = 2 * sp.Symbol('x') + 3 * sp.Symbol('y') + 4 * sp.Symbol('z') + d\n",
        "print(\"Equation of the plane through A and perpendicular to [2, 3, 4]:\", plane3)"
      ]
    },
    {
      "cell_type": "code",
      "execution_count": null,
      "metadata": {
        "colab": {
          "base_uri": "https://localhost:8080/",
          "height": 350
        },
        "id": "s0nE6IV6skzB",
        "outputId": "d714f9fe-8b31-415b-bfd8-1d7b8fd323a7"
      },
      "outputs": [
        {
          "ename": "ValueError",
          "evalue": "Nonzero coordinates cannot be removed.",
          "output_type": "error",
          "traceback": [
            "\u001b[0;31m---------------------------------------------------------------------------\u001b[0m",
            "\u001b[0;31mValueError\u001b[0m                                Traceback (most recent call last)",
            "\u001b[0;32m<ipython-input-7-8b2638cf69f6>\u001b[0m in \u001b[0;36m<cell line: 2>\u001b[0;34m()\u001b[0m\n\u001b[1;32m      1\u001b[0m \u001b[0;31m# 4. Find the line of intersection of two planes 2x + 3y + 4z = 5 and 3x + 4y + 2z = 6\u001b[0m\u001b[0;34m\u001b[0m\u001b[0;34m\u001b[0m\u001b[0m\n\u001b[0;32m----> 2\u001b[0;31m \u001b[0mplane4_1\u001b[0m \u001b[0;34m=\u001b[0m \u001b[0mPlane\u001b[0m\u001b[0;34m(\u001b[0m\u001b[0;34m(\u001b[0m\u001b[0;36m2\u001b[0m\u001b[0;34m,\u001b[0m \u001b[0;36m3\u001b[0m\u001b[0;34m,\u001b[0m \u001b[0;36m4\u001b[0m\u001b[0;34m,\u001b[0m \u001b[0;36m5\u001b[0m\u001b[0;34m)\u001b[0m\u001b[0;34m)\u001b[0m\u001b[0;34m\u001b[0m\u001b[0;34m\u001b[0m\u001b[0m\n\u001b[0m\u001b[1;32m      3\u001b[0m \u001b[0mplane4_2\u001b[0m \u001b[0;34m=\u001b[0m \u001b[0mPlane\u001b[0m\u001b[0;34m(\u001b[0m\u001b[0;34m(\u001b[0m\u001b[0;36m3\u001b[0m\u001b[0;34m,\u001b[0m \u001b[0;36m4\u001b[0m\u001b[0;34m,\u001b[0m \u001b[0;36m2\u001b[0m\u001b[0;34m,\u001b[0m \u001b[0;36m6\u001b[0m\u001b[0;34m)\u001b[0m\u001b[0;34m)\u001b[0m\u001b[0;34m\u001b[0m\u001b[0;34m\u001b[0m\u001b[0m\n\u001b[1;32m      4\u001b[0m \u001b[0mline_intersection\u001b[0m \u001b[0;34m=\u001b[0m \u001b[0mplane4_1\u001b[0m\u001b[0;34m.\u001b[0m\u001b[0mintersection\u001b[0m\u001b[0;34m(\u001b[0m\u001b[0mplane4_2\u001b[0m\u001b[0;34m)\u001b[0m\u001b[0;34m\u001b[0m\u001b[0;34m\u001b[0m\u001b[0m\n\u001b[1;32m      5\u001b[0m \u001b[0mprint\u001b[0m\u001b[0;34m(\u001b[0m\u001b[0;34m\"Line of intersection of the two planes:\"\u001b[0m\u001b[0;34m,\u001b[0m \u001b[0mline_intersection\u001b[0m\u001b[0;34m)\u001b[0m\u001b[0;34m\u001b[0m\u001b[0;34m\u001b[0m\u001b[0m\n",
            "\u001b[0;32m/usr/local/lib/python3.10/dist-packages/sympy/geometry/plane.py\u001b[0m in \u001b[0;36m__new__\u001b[0;34m(cls, p1, a, b, **kwargs)\u001b[0m\n\u001b[1;32m     56\u001b[0m     \"\"\"\n\u001b[1;32m     57\u001b[0m     \u001b[0;32mdef\u001b[0m \u001b[0m__new__\u001b[0m\u001b[0;34m(\u001b[0m\u001b[0mcls\u001b[0m\u001b[0;34m,\u001b[0m \u001b[0mp1\u001b[0m\u001b[0;34m,\u001b[0m \u001b[0ma\u001b[0m\u001b[0;34m=\u001b[0m\u001b[0;32mNone\u001b[0m\u001b[0;34m,\u001b[0m \u001b[0mb\u001b[0m\u001b[0;34m=\u001b[0m\u001b[0;32mNone\u001b[0m\u001b[0;34m,\u001b[0m \u001b[0;34m**\u001b[0m\u001b[0mkwargs\u001b[0m\u001b[0;34m)\u001b[0m\u001b[0;34m:\u001b[0m\u001b[0;34m\u001b[0m\u001b[0;34m\u001b[0m\u001b[0m\n\u001b[0;32m---> 58\u001b[0;31m         \u001b[0mp1\u001b[0m \u001b[0;34m=\u001b[0m \u001b[0mPoint3D\u001b[0m\u001b[0;34m(\u001b[0m\u001b[0mp1\u001b[0m\u001b[0;34m,\u001b[0m \u001b[0mdim\u001b[0m\u001b[0;34m=\u001b[0m\u001b[0;36m3\u001b[0m\u001b[0;34m)\u001b[0m\u001b[0;34m\u001b[0m\u001b[0;34m\u001b[0m\u001b[0m\n\u001b[0m\u001b[1;32m     59\u001b[0m         \u001b[0;32mif\u001b[0m \u001b[0ma\u001b[0m \u001b[0;32mand\u001b[0m \u001b[0mb\u001b[0m\u001b[0;34m:\u001b[0m\u001b[0;34m\u001b[0m\u001b[0;34m\u001b[0m\u001b[0m\n\u001b[1;32m     60\u001b[0m             \u001b[0mp2\u001b[0m \u001b[0;34m=\u001b[0m \u001b[0mPoint\u001b[0m\u001b[0;34m(\u001b[0m\u001b[0ma\u001b[0m\u001b[0;34m,\u001b[0m \u001b[0mdim\u001b[0m\u001b[0;34m=\u001b[0m\u001b[0;36m3\u001b[0m\u001b[0;34m)\u001b[0m\u001b[0;34m\u001b[0m\u001b[0;34m\u001b[0m\u001b[0m\n",
            "\u001b[0;32m/usr/local/lib/python3.10/dist-packages/sympy/geometry/point.py\u001b[0m in \u001b[0;36m__new__\u001b[0;34m(cls, _nocheck, *args, **kwargs)\u001b[0m\n\u001b[1;32m   1122\u001b[0m         \u001b[0;32mif\u001b[0m \u001b[0;32mnot\u001b[0m \u001b[0m_nocheck\u001b[0m\u001b[0;34m:\u001b[0m\u001b[0;34m\u001b[0m\u001b[0;34m\u001b[0m\u001b[0m\n\u001b[1;32m   1123\u001b[0m             \u001b[0mkwargs\u001b[0m\u001b[0;34m[\u001b[0m\u001b[0;34m'dim'\u001b[0m\u001b[0;34m]\u001b[0m \u001b[0;34m=\u001b[0m \u001b[0;36m3\u001b[0m\u001b[0;34m\u001b[0m\u001b[0;34m\u001b[0m\u001b[0m\n\u001b[0;32m-> 1124\u001b[0;31m             \u001b[0margs\u001b[0m \u001b[0;34m=\u001b[0m \u001b[0mPoint\u001b[0m\u001b[0;34m(\u001b[0m\u001b[0;34m*\u001b[0m\u001b[0margs\u001b[0m\u001b[0;34m,\u001b[0m \u001b[0;34m**\u001b[0m\u001b[0mkwargs\u001b[0m\u001b[0;34m)\u001b[0m\u001b[0;34m\u001b[0m\u001b[0;34m\u001b[0m\u001b[0m\n\u001b[0m\u001b[1;32m   1125\u001b[0m         \u001b[0;32mreturn\u001b[0m \u001b[0mGeometryEntity\u001b[0m\u001b[0;34m.\u001b[0m\u001b[0m__new__\u001b[0m\u001b[0;34m(\u001b[0m\u001b[0mcls\u001b[0m\u001b[0;34m,\u001b[0m \u001b[0;34m*\u001b[0m\u001b[0margs\u001b[0m\u001b[0;34m)\u001b[0m\u001b[0;34m\u001b[0m\u001b[0;34m\u001b[0m\u001b[0m\n\u001b[1;32m   1126\u001b[0m \u001b[0;34m\u001b[0m\u001b[0m\n",
            "\u001b[0;32m/usr/local/lib/python3.10/dist-packages/sympy/geometry/point.py\u001b[0m in \u001b[0;36m__new__\u001b[0;34m(cls, *args, **kwargs)\u001b[0m\n\u001b[1;32m    152\u001b[0m                         'warn' or 'ignore'.'''))\n\u001b[1;32m    153\u001b[0m         \u001b[0;32mif\u001b[0m \u001b[0many\u001b[0m\u001b[0;34m(\u001b[0m\u001b[0mcoords\u001b[0m\u001b[0;34m[\u001b[0m\u001b[0mdim\u001b[0m\u001b[0;34m:\u001b[0m\u001b[0;34m]\u001b[0m\u001b[0;34m)\u001b[0m\u001b[0;34m:\u001b[0m\u001b[0;34m\u001b[0m\u001b[0;34m\u001b[0m\u001b[0m\n\u001b[0;32m--> 154\u001b[0;31m             \u001b[0;32mraise\u001b[0m \u001b[0mValueError\u001b[0m\u001b[0;34m(\u001b[0m\u001b[0;34m'Nonzero coordinates cannot be removed.'\u001b[0m\u001b[0;34m)\u001b[0m\u001b[0;34m\u001b[0m\u001b[0;34m\u001b[0m\u001b[0m\n\u001b[0m\u001b[1;32m    155\u001b[0m         \u001b[0;32mif\u001b[0m \u001b[0many\u001b[0m\u001b[0;34m(\u001b[0m\u001b[0ma\u001b[0m\u001b[0;34m.\u001b[0m\u001b[0mis_number\u001b[0m \u001b[0;32mand\u001b[0m \u001b[0mim\u001b[0m\u001b[0;34m(\u001b[0m\u001b[0ma\u001b[0m\u001b[0;34m)\u001b[0m\u001b[0;34m.\u001b[0m\u001b[0mis_zero\u001b[0m \u001b[0;32mis\u001b[0m \u001b[0;32mFalse\u001b[0m \u001b[0;32mfor\u001b[0m \u001b[0ma\u001b[0m \u001b[0;32min\u001b[0m \u001b[0mcoords\u001b[0m\u001b[0;34m)\u001b[0m\u001b[0;34m:\u001b[0m\u001b[0;34m\u001b[0m\u001b[0;34m\u001b[0m\u001b[0m\n\u001b[1;32m    156\u001b[0m             \u001b[0;32mraise\u001b[0m \u001b[0mValueError\u001b[0m\u001b[0;34m(\u001b[0m\u001b[0;34m'Imaginary coordinates are not permitted.'\u001b[0m\u001b[0;34m)\u001b[0m\u001b[0;34m\u001b[0m\u001b[0;34m\u001b[0m\u001b[0m\n",
            "\u001b[0;31mValueError\u001b[0m: Nonzero coordinates cannot be removed."
          ]
        }
      ],
      "source": [
        "# 4. Find the line of intersection of two planes 2x + 3y + 4z = 5 and 3x + 4y + 2z = 6\n",
        "plane4_1 = Plane((2, 3, 4, 5))\n",
        "plane4_2 = Plane((3, 4, 2, 6))\n",
        "line_intersection = plane4_1.intersection(plane4_2)\n",
        "print(\"Line of intersection of the two planes:\", line_intersection)\n",
        "?????????"
      ]
    },
    {
      "cell_type": "code",
      "execution_count": null,
      "metadata": {
        "colab": {
          "base_uri": "https://localhost:8080/"
        },
        "id": "oAnseX2Lsn4L",
        "outputId": "ac0497ba-0757-4eee-ccbc-a88a1e22ca09"
      },
      "outputs": [
        {
          "name": "stdout",
          "output_type": "stream",
          "text": [
            "Equation of the plane through A and parallel to v1, v2: -x + y + z - 4\n"
          ]
        }
      ],
      "source": [
        "# 5.\n",
        "v1 = Matrix([1, 0, 1])\n",
        "v2 = Matrix([0, 1, -1])\n",
        "n_parallel = v1.cross(v2)\n",
        "d = -n_parallel.dot(Matrix([1, 2, 3]))\n",
        "plane5 = n_parallel[0] * sp.Symbol('x') + n_parallel[1] * sp.Symbol('y') + n_parallel[2] * sp.Symbol('z') + d\n",
        "print(\"Equation of the plane through A and parallel to v1, v2:\", plane5)"
      ]
    },
    {
      "cell_type": "code",
      "execution_count": null,
      "metadata": {
        "colab": {
          "base_uri": "https://localhost:8080/"
        },
        "id": "FwK_-VXgssVF",
        "outputId": "24bba2b8-f615-4193-ae29-c8537b1e91ea"
      },
      "outputs": [
        {
          "name": "stdout",
          "output_type": "stream",
          "text": [
            "Equation of a plane parallel to 2x + 3y + 4z = 5: 2*x + 3*y + 4*z\n",
            "Equation of a plane perpendicular to 2x + 3y + 4z = 5: z\n"
          ]
        }
      ],
      "source": [
        "# 6.\n",
        "plane6_parallel = Plane(Point3D(0, 0, 0), normal_vector=(2, 3, 4))\n",
        "plane6_perpendicular = Plane(Point3D(0, 0, 0), normal_vector=(0, 0, 1))\n",
        "print(\"Equation of a plane parallel to 2x + 3y + 4z = 5:\", plane6_parallel.equation())\n",
        "print(\"Equation of a plane perpendicular to 2x + 3y + 4z = 5:\", plane6_perpendicular.equation())\n"
      ]
    },
    {
      "cell_type": "code",
      "execution_count": null,
      "metadata": {
        "colab": {
          "base_uri": "https://localhost:8080/",
          "height": 333
        },
        "id": "u6eyjFYqstSB",
        "outputId": "db732061-8eae-4a30-dfed-848366cb4178"
      },
      "outputs": [
        {
          "ename": "ValueError",
          "evalue": "Nonzero coordinates cannot be removed.",
          "output_type": "error",
          "traceback": [
            "\u001b[0;31m---------------------------------------------------------------------------\u001b[0m",
            "\u001b[0;31mValueError\u001b[0m                                Traceback (most recent call last)",
            "\u001b[0;32m<ipython-input-10-38acae46ddfa>\u001b[0m in \u001b[0;36m<cell line: 2>\u001b[0;34m()\u001b[0m\n\u001b[1;32m      1\u001b[0m \u001b[0;31m# 7.\u001b[0m\u001b[0;34m\u001b[0m\u001b[0;34m\u001b[0m\u001b[0m\n\u001b[0;32m----> 2\u001b[0;31m \u001b[0mplane7\u001b[0m \u001b[0;34m=\u001b[0m \u001b[0mPlane\u001b[0m\u001b[0;34m(\u001b[0m\u001b[0;34m(\u001b[0m\u001b[0;36m2\u001b[0m\u001b[0;34m,\u001b[0m \u001b[0;36m3\u001b[0m\u001b[0;34m,\u001b[0m \u001b[0;36m4\u001b[0m\u001b[0;34m,\u001b[0m \u001b[0;36m5\u001b[0m\u001b[0;34m)\u001b[0m\u001b[0;34m)\u001b[0m\u001b[0;34m\u001b[0m\u001b[0;34m\u001b[0m\u001b[0m\n\u001b[0m\u001b[1;32m      3\u001b[0m \u001b[0mdistance\u001b[0m \u001b[0;34m=\u001b[0m \u001b[0mplane7\u001b[0m\u001b[0;34m.\u001b[0m\u001b[0mdistance\u001b[0m\u001b[0;34m(\u001b[0m\u001b[0mA\u001b[0m\u001b[0;34m)\u001b[0m\u001b[0;34m\u001b[0m\u001b[0;34m\u001b[0m\u001b[0m\n\u001b[1;32m      4\u001b[0m \u001b[0mprint\u001b[0m\u001b[0;34m(\u001b[0m\u001b[0;34m\"Distance from A to the plane:\"\u001b[0m\u001b[0;34m,\u001b[0m \u001b[0mdistance\u001b[0m\u001b[0;34m)\u001b[0m\u001b[0;34m\u001b[0m\u001b[0;34m\u001b[0m\u001b[0m\n",
            "\u001b[0;32m/usr/local/lib/python3.10/dist-packages/sympy/geometry/plane.py\u001b[0m in \u001b[0;36m__new__\u001b[0;34m(cls, p1, a, b, **kwargs)\u001b[0m\n\u001b[1;32m     56\u001b[0m     \"\"\"\n\u001b[1;32m     57\u001b[0m     \u001b[0;32mdef\u001b[0m \u001b[0m__new__\u001b[0m\u001b[0;34m(\u001b[0m\u001b[0mcls\u001b[0m\u001b[0;34m,\u001b[0m \u001b[0mp1\u001b[0m\u001b[0;34m,\u001b[0m \u001b[0ma\u001b[0m\u001b[0;34m=\u001b[0m\u001b[0;32mNone\u001b[0m\u001b[0;34m,\u001b[0m \u001b[0mb\u001b[0m\u001b[0;34m=\u001b[0m\u001b[0;32mNone\u001b[0m\u001b[0;34m,\u001b[0m \u001b[0;34m**\u001b[0m\u001b[0mkwargs\u001b[0m\u001b[0;34m)\u001b[0m\u001b[0;34m:\u001b[0m\u001b[0;34m\u001b[0m\u001b[0;34m\u001b[0m\u001b[0m\n\u001b[0;32m---> 58\u001b[0;31m         \u001b[0mp1\u001b[0m \u001b[0;34m=\u001b[0m \u001b[0mPoint3D\u001b[0m\u001b[0;34m(\u001b[0m\u001b[0mp1\u001b[0m\u001b[0;34m,\u001b[0m \u001b[0mdim\u001b[0m\u001b[0;34m=\u001b[0m\u001b[0;36m3\u001b[0m\u001b[0;34m)\u001b[0m\u001b[0;34m\u001b[0m\u001b[0;34m\u001b[0m\u001b[0m\n\u001b[0m\u001b[1;32m     59\u001b[0m         \u001b[0;32mif\u001b[0m \u001b[0ma\u001b[0m \u001b[0;32mand\u001b[0m \u001b[0mb\u001b[0m\u001b[0;34m:\u001b[0m\u001b[0;34m\u001b[0m\u001b[0;34m\u001b[0m\u001b[0m\n\u001b[1;32m     60\u001b[0m             \u001b[0mp2\u001b[0m \u001b[0;34m=\u001b[0m \u001b[0mPoint\u001b[0m\u001b[0;34m(\u001b[0m\u001b[0ma\u001b[0m\u001b[0;34m,\u001b[0m \u001b[0mdim\u001b[0m\u001b[0;34m=\u001b[0m\u001b[0;36m3\u001b[0m\u001b[0;34m)\u001b[0m\u001b[0;34m\u001b[0m\u001b[0;34m\u001b[0m\u001b[0m\n",
            "\u001b[0;32m/usr/local/lib/python3.10/dist-packages/sympy/geometry/point.py\u001b[0m in \u001b[0;36m__new__\u001b[0;34m(cls, _nocheck, *args, **kwargs)\u001b[0m\n\u001b[1;32m   1122\u001b[0m         \u001b[0;32mif\u001b[0m \u001b[0;32mnot\u001b[0m \u001b[0m_nocheck\u001b[0m\u001b[0;34m:\u001b[0m\u001b[0;34m\u001b[0m\u001b[0;34m\u001b[0m\u001b[0m\n\u001b[1;32m   1123\u001b[0m             \u001b[0mkwargs\u001b[0m\u001b[0;34m[\u001b[0m\u001b[0;34m'dim'\u001b[0m\u001b[0;34m]\u001b[0m \u001b[0;34m=\u001b[0m \u001b[0;36m3\u001b[0m\u001b[0;34m\u001b[0m\u001b[0;34m\u001b[0m\u001b[0m\n\u001b[0;32m-> 1124\u001b[0;31m             \u001b[0margs\u001b[0m \u001b[0;34m=\u001b[0m \u001b[0mPoint\u001b[0m\u001b[0;34m(\u001b[0m\u001b[0;34m*\u001b[0m\u001b[0margs\u001b[0m\u001b[0;34m,\u001b[0m \u001b[0;34m**\u001b[0m\u001b[0mkwargs\u001b[0m\u001b[0;34m)\u001b[0m\u001b[0;34m\u001b[0m\u001b[0;34m\u001b[0m\u001b[0m\n\u001b[0m\u001b[1;32m   1125\u001b[0m         \u001b[0;32mreturn\u001b[0m \u001b[0mGeometryEntity\u001b[0m\u001b[0;34m.\u001b[0m\u001b[0m__new__\u001b[0m\u001b[0;34m(\u001b[0m\u001b[0mcls\u001b[0m\u001b[0;34m,\u001b[0m \u001b[0;34m*\u001b[0m\u001b[0margs\u001b[0m\u001b[0;34m)\u001b[0m\u001b[0;34m\u001b[0m\u001b[0;34m\u001b[0m\u001b[0m\n\u001b[1;32m   1126\u001b[0m \u001b[0;34m\u001b[0m\u001b[0m\n",
            "\u001b[0;32m/usr/local/lib/python3.10/dist-packages/sympy/geometry/point.py\u001b[0m in \u001b[0;36m__new__\u001b[0;34m(cls, *args, **kwargs)\u001b[0m\n\u001b[1;32m    152\u001b[0m                         'warn' or 'ignore'.'''))\n\u001b[1;32m    153\u001b[0m         \u001b[0;32mif\u001b[0m \u001b[0many\u001b[0m\u001b[0;34m(\u001b[0m\u001b[0mcoords\u001b[0m\u001b[0;34m[\u001b[0m\u001b[0mdim\u001b[0m\u001b[0;34m:\u001b[0m\u001b[0;34m]\u001b[0m\u001b[0;34m)\u001b[0m\u001b[0;34m:\u001b[0m\u001b[0;34m\u001b[0m\u001b[0;34m\u001b[0m\u001b[0m\n\u001b[0;32m--> 154\u001b[0;31m             \u001b[0;32mraise\u001b[0m \u001b[0mValueError\u001b[0m\u001b[0;34m(\u001b[0m\u001b[0;34m'Nonzero coordinates cannot be removed.'\u001b[0m\u001b[0;34m)\u001b[0m\u001b[0;34m\u001b[0m\u001b[0;34m\u001b[0m\u001b[0m\n\u001b[0m\u001b[1;32m    155\u001b[0m         \u001b[0;32mif\u001b[0m \u001b[0many\u001b[0m\u001b[0;34m(\u001b[0m\u001b[0ma\u001b[0m\u001b[0;34m.\u001b[0m\u001b[0mis_number\u001b[0m \u001b[0;32mand\u001b[0m \u001b[0mim\u001b[0m\u001b[0;34m(\u001b[0m\u001b[0ma\u001b[0m\u001b[0;34m)\u001b[0m\u001b[0;34m.\u001b[0m\u001b[0mis_zero\u001b[0m \u001b[0;32mis\u001b[0m \u001b[0;32mFalse\u001b[0m \u001b[0;32mfor\u001b[0m \u001b[0ma\u001b[0m \u001b[0;32min\u001b[0m \u001b[0mcoords\u001b[0m\u001b[0;34m)\u001b[0m\u001b[0;34m:\u001b[0m\u001b[0;34m\u001b[0m\u001b[0;34m\u001b[0m\u001b[0m\n\u001b[1;32m    156\u001b[0m             \u001b[0;32mraise\u001b[0m \u001b[0mValueError\u001b[0m\u001b[0;34m(\u001b[0m\u001b[0;34m'Imaginary coordinates are not permitted.'\u001b[0m\u001b[0;34m)\u001b[0m\u001b[0;34m\u001b[0m\u001b[0;34m\u001b[0m\u001b[0m\n",
            "\u001b[0;31mValueError\u001b[0m: Nonzero coordinates cannot be removed."
          ]
        }
      ],
      "source": [
        "# 7.\n",
        "plane7 = Plane((2, 3, 4, 5))\n",
        "distance = plane7.distance(A)\n",
        "print(\"Distance from A to the plane:\", distance)\n",
        "??????????"
      ]
    },
    {
      "cell_type": "code",
      "execution_count": null,
      "metadata": {
        "colab": {
          "base_uri": "https://localhost:8080/"
        },
        "id": "Pi0uBqN3svgs",
        "outputId": "f9060431-cfc5-4f6c-8de6-e76de402527d"
      },
      "outputs": [
        {
          "name": "stdout",
          "output_type": "stream",
          "text": [
            "Equation of the plane intersecting the axes at A, B, C: 12*x + 8*y + 6*z - 24\n"
          ]
        }
      ],
      "source": [
        "\n",
        "# 8.\n",
        "A8 = Point3D(2, 0, 0)\n",
        "B8 = Point3D(0, 3, 0)\n",
        "C8 = Point3D(0, 0, 4)\n",
        "plane8 = Plane(A8, B8, C8)\n",
        "print(\"Equation of the plane intersecting the axes at A, B, C:\", plane8.equation())"
      ]
    },
    {
      "cell_type": "code",
      "execution_count": null,
      "metadata": {
        "colab": {
          "base_uri": "https://localhost:8080/"
        },
        "id": "ZuIAXK7Isx3F",
        "outputId": "b7fa3613-d013-45ff-8d89-4da43e4043c9"
      },
      "outputs": [
        {
          "name": "stdout",
          "output_type": "stream",
          "text": [
            "Angle between planes x + y + z = 1 and x = 0: 0.955316618124509 radians\n"
          ]
        }
      ],
      "source": [
        "# 9.\n",
        "n1 = Matrix([1, 1, 1])\n",
        "n2 = Matrix([1, 0, 0])\n",
        "cos_theta = abs(n1.dot(n2)) / (sp.sqrt(n1.dot(n1)) * sp.sqrt(n2.dot(n2)))\n",
        "angle = sp.acos(cos_theta).evalf()\n",
        "print(\"Angle between planes x + y + z = 1 and x = 0:\", angle, \"radians\")"
      ]
    },
    {
      "cell_type": "code",
      "execution_count": null,
      "metadata": {
        "colab": {
          "base_uri": "https://localhost:8080/"
        },
        "id": "f-FN1L2Bs0Cw",
        "outputId": "dbe2ca92-7810-445d-c23c-894ab0829c1c"
      },
      "outputs": [
        {
          "name": "stdout",
          "output_type": "stream",
          "text": [
            "Vector perpendicular to x + y + z = 1: Matrix([[1], [1], [1]])\n"
          ]
        }
      ],
      "source": [
        "# 10.\n",
        "perpendicular_vector = Matrix([1, 1, 1])\n",
        "print(\"Vector perpendicular to x + y + z = 1:\", perpendicular_vector)\n"
      ]
    }
  ],
  "metadata": {
    "colab": {
      "provenance": []
    },
    "kernelspec": {
      "display_name": "Python 3",
      "name": "python3"
    },
    "language_info": {
      "name": "python"
    }
  },
  "nbformat": 4,
  "nbformat_minor": 0
}
