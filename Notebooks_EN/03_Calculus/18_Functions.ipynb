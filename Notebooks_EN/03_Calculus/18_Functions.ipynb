{
  "cells": [
    {
      "cell_type": "markdown",
      "metadata": {
        "id": "YBha9MC0howb"
      },
      "source": []
    },
    {
      "cell_type": "markdown",
      "metadata": {
        "id": "qbpzrcsLRCBq"
      },
      "source": [
        "# Functions and Their Properties\n",
        "\n",
        "---\n",
        "\n",
        "## 1. Functions and Their Evaluation\n",
        "\n",
        "### Common Functions:\n",
        "1. **Quadratic Function**:\n",
        "   - Definition: $f(x) = x^2$\n",
        "   - Key points:\n",
        "     - Symmetrical about the $y$-axis.\n",
        "     - Minimum value at $x = 0$.\n",
        "\n",
        "2. **Square Root Function**:\n",
        "   - Definition: $g(x) = \\sqrt{x}$\n",
        "   - Key points:\n",
        "     - Domain: $x \\geq 0$.\n",
        "     - Gradually increases as $x$ grows.\n",
        "\n",
        "3. **Reciprocal Function**:\n",
        "   - Definition: $h(x) = \\frac{1}{x}$\n",
        "   - Key points:\n",
        "     - Undefined at $x = 0$.\n",
        "     - Symmetrical about the origin.\n",
        "\n",
        "4. **Sine Function**:\n",
        "   - Definition: $j(x) = \\sin(x)$\n",
        "   - Key points:\n",
        "     - Periodic with period $2\\pi$.\n",
        "     - Range: $[-1, 1]$.\n",
        "\n",
        "### Evaluation at $x = 2$:\n",
        "1. $f(2) = 2^2 = 4$\n",
        "2. $g(2) = \\sqrt{2}$\n",
        "3. $h(2) = \\frac{1}{2}$\n",
        "4. $j(2) = \\sin(2)$ (approximately $0.909$)\n",
        "\n",
        "---\n",
        "\n",
        "## 2. Composition of Functions\n",
        "\n",
        "### General Formula:\n",
        "The composition $f(g(x))$ means substituting $g(x)$ into $f(x)$. Similarly, $g(f(x))$ means substituting $f(x)$ into $g(x)$.\n",
        "\n",
        "### Examples:\n",
        "1. **Given $f(x) = 3x - 1$ and $g(x) = \\sqrt{x}$:**\n",
        "   - $f(g(x)) = f(\\sqrt{x}) = 3\\sqrt{x} - 1$\n",
        "   - $g(f(x)) = g(3x - 1) = \\sqrt{3x - 1}$\n",
        "   - $f(f(x)) = f(3x - 1) = 3(3x - 1) - 1 = 9x - 4$\n",
        "   - $g(g(x)) = g(\\sqrt{x}) = \\sqrt{\\sqrt{x}}$\n",
        "\n",
        "\n",
        "\n",
        "---\n",
        "\n",
        "## 3. Exponential and Logarithmic Functions\n",
        "\n",
        "### Definitions:\n",
        "1. Exponential Function:\n",
        "   - $f(x) = e^x$, where $e \\approx 2.718$\n",
        "2. Logarithmic Function:\n",
        "   - $g(x) = \\ln(x)$, the inverse of $e^x$\n",
        "\n",
        "### Properties:\n",
        "1. **Composition**:\n",
        "   - $f(g(x)) = e^{\\ln(x)} = x$ (valid for $x > 0$)\n",
        "   - $g(f(x)) = \\ln(e^x) = x$ (valid for all $x$)\n",
        "2. **Observation**:\n",
        "   - The functions $f(x) = e^x$ and $g(x) = \\ln"
      ]
    },
    {
      "cell_type": "markdown",
      "metadata": {
        "id": "0HxGNTKWQUOa"
      },
      "source": [
        "## 18. Functions\n",
        "\n",
        "1. Draw in a single Geogebra notebook the following functions:\n",
        "   - $f(x) = x^2$\n",
        "   - $g(x) = \\sqrt{x}$\n",
        "   - $h(x) = \\frac{1}{x}$\n",
        "   - $j(x) = \\sin(x)$\n",
        "\n",
        "Find value of all the above functions at $x = 2$.\n",
        "\n",
        "2. Let $f(x) = 3x - 1$ and $g(x) = \\sqrt{x}$. Find:\n",
        "   - $f(g(x))$\n",
        "   - $g(f(x))$\n",
        "   - $f(f(x))$\n",
        "   - $g(g(x))$\n",
        "\n",
        "and visualize functions in a single Geogebra notebook.\n",
        "\n",
        "3. Let $f(x) = e^x$ and $g(x) = \\ln(x)$. Check: $f(g(x))$ and $g(f(x))$. What do you notice?\n",
        "\n",
        "4. We have function $f=\\{(1,7), (2,9), (3,11)\\}$. Give inverse function $f^{-1}$.\n",
        "\n",
        "5. We have function $f=\\{(1,7), (2,7), (3,11)\\}$. Give inverse function $f^{-1}$.\n",
        "\n",
        "6. We have function $f(x)= x-1$. Give inverse function $f^{-1}$. Show both functions on the same Geogebra notebook.\n"
      ]
    },
    {
      "cell_type": "markdown",
      "metadata": {
        "id": "pqp7aqpJcMUo"
      },
      "source": [
        "### Solution:\n",
        "\n",
        "1. **Given Function:**\n",
        "   \\[\n",
        "   f(x) = x - 1\n",
        "   \\]\n",
        "\n",
        "2. **Find the Inverse:**\n",
        "   - Replace \\( f(x) \\) with \\( y \\): \\( y = x - 1 \\)\n",
        "   - Swap \\( x \\) and \\( y \\): \\( x = y - 1 \\)\n",
        "   - Solve for \\( y \\): \\( y = x + 1 \\)\n",
        "\n",
        "   Thus, the inverse function is:\n",
        "   \\[\n",
        "   f^{-1}(x) = x + 1\n",
        "   \\]"
      ]
    },
    {
      "cell_type": "markdown",
      "metadata": {
        "id": "VgjrY-mWcJXH"
      },
      "source": [
        "6th question geogebra: https://www.geogebra.org/calculator/xsa5fgd\n"
      ]
    },
    {
      "cell_type": "markdown",
      "metadata": {
        "id": "oke7Yc9Ibm9N"
      },
      "source": [
        "### Solution:\n",
        "\n",
        "1. **Given** \\( f = \\{(1, 7), (2, 7), (3, 11)\\} \\), swap the elements in each pair:\n",
        "   - \\( (1, 7) \\rightarrow (7, 1) \\)\n",
        "   - \\( (2, 7) \\rightarrow (7, 2) \\)\n",
        "   - \\( (3, 11) \\rightarrow (11, 3) \\)\n",
        "\n",
        "2. **Observation:**\n",
        "   The resulting set for \\( f^{-1} \\) is:\n",
        "   \\[\n",
        "   f^{-1} = \\{(7, 1), (7, 2), (11, 3)\\}\n",
        "   \\]\n",
        "\n",
        "3. **Conclusion:**\n",
        "   - This is **not a function**, because \\( 7 \\) in \\( f^{-1} \\) maps to two different values (\\( 1 \\) and \\( 2 \\)). A function cannot have the same input (\\( 7 \\)) map to multiple outputs.\n",
        "   - Therefore, the inverse \\( f^{-1} \\) does not exist as a valid function.\n",
        "   "
      ]
    },
    {
      "cell_type": "markdown",
      "metadata": {
        "id": "bHmv_hGPauE_"
      },
      "source": [
        "5th question geogebra: https://www.geogebra.org/calculator/lmus7qe"
      ]
    },
    {
      "cell_type": "markdown",
      "metadata": {
        "id": "DTMHNkm2aOEV"
      },
      "source": [
        "### Solution:\n",
        "1. Given \\( f = \\{(1, 7), (2, 9), (3, 11)\\} \\), swap the elements in each pair:\n",
        "   - \\( (1, 7) \\rightarrow (7, 1) \\)\n",
        "   - \\( (2, 9) \\rightarrow (9, 2) \\)\n",
        "   - \\( (3, 11) \\rightarrow (11, 3) \\)\n",
        "\n",
        "2. The inverse function \\( f^{-1} \\) is:\n",
        "   \\[\n",
        "   f^{-1} = \\{(7, 1), (9, 2), (11, 3)\\}\n",
        "   \\]"
      ]
    },
    {
      "cell_type": "markdown",
      "metadata": {
        "id": "pAnVtg-RaH4_"
      },
      "source": [
        "4th question geogebra:https://www.geogebra.org/calculator/plmzghsd\n",
        "\n",
        "\n"
      ]
    },
    {
      "cell_type": "markdown",
      "metadata": {
        "id": "jiVeZco6ZDJP"
      },
      "source": [
        "### **Calculations**\n",
        "\n",
        "1. **Given Functions:**\n",
        "   - \\( f(x) = e^x \\)\n",
        "   - \\( g(x) = \\ln(x) \\)\n",
        "\n",
        "2. **Check \\( f(g(x)) \\):**\n",
        "   \\[\n",
        "   f(g(x)) = f(\\ln(x)) = e^{\\ln(x)}\n",
        "   \\]\n",
        "   Using the property \\( e^{\\ln(x)} = x \\):\n",
        "   \\[\n",
        "   f(g(x)) = x \\quad (\\text{for } x > 0)\n",
        "   \\]\n",
        "\n",
        "3. **Check \\( g(f(x)) \\):**\n",
        "   \\[\n",
        "   g(f(x)) = g(e^x) = \\ln(e^x)\n",
        "   \\]\n",
        "   Using the property \\( \\ln(e^x) = x \\):\n",
        "   \\[\n",
        "   g(f(x)) = x \\quad (\\text{for all } x)\n",
        "   \\]\n",
        "\n",
        "---\n",
        "\n",
        "### **Conclusion**\n",
        "- \\( f(g(x)) = x \\) for \\( x > 0 \\).\n",
        "- \\( g(f(x)) = x \\) for all \\( x \\).\n",
        "- The functions \\( f(x) = e^x \\) and \\( g(x) = \\ln(x) \\) are **inverses of each other**."
      ]
    },
    {
      "cell_type": "markdown",
      "metadata": {
        "id": "hAIUDhQzY1_J"
      },
      "source": [
        "3rd question geogebra: https://www.geogebra.org/calculator/a3guthsal"
      ]
    },
    {
      "cell_type": "markdown",
      "metadata": {
        "id": "dfEmyZrNVrLu"
      },
      "source": [
        "# Composition of Functions: \\( f(x) = 3x - 1 \\) and \\( g(x) = \\sqrt{x} \\)\n",
        "\n",
        "---\n",
        "\n",
        "## 1. Definitions:\n",
        "- \\( f(x) = 3x - 1 \\)\n",
        "- \\( g(x) = \\sqrt{x} \\)\n",
        "\n",
        "---\n",
        "\n",
        "## 2. Compositions of Functions:\n",
        "\n",
        "### (a) \\( f(g(x)) \\)\n",
        "Substitute \\( g(x) = \\sqrt{x} \\) into \\( f(x) \\):\n",
        "\\[\n",
        "f(g(x)) = f(\\sqrt{x}) = 3\\sqrt{x} - 1\n",
        "\\]\n",
        "\n",
        "### (b) \\( g(f(x)) \\)\n",
        "Substitute \\( f(x) = 3x - 1 \\) into \\( g(x) \\):\n",
        "\\[\n",
        "g(f(x)) = g(3x - 1) = \\sqrt{3x - 1}\n",
        "\\]\n",
        "\n",
        "### (c) \\( f(f(x)) \\)\n",
        "Substitute \\( f(x) = 3x - 1 \\) into itself:\n",
        "\\[\n",
        "f(f(x)) = f(3x - 1) = 3(3x - 1) - 1 = 9x - 4\n",
        "\\]\n",
        "\n",
        "### (d) \\( g(g(x)) \\)\n",
        "Substitute \\( g(x) = \\sqrt{x} \\) into itself:\n",
        "\\[\n",
        "g(g(x)) = g(\\sqrt{x}) = \\sqrt{\\sqrt{x}}\n",
        "\\]\n",
        "\n",
        "---\n",
        "\n"
      ]
    },
    {
      "cell_type": "markdown",
      "metadata": {
        "id": "Mg0kic0cVesK"
      },
      "source": [
        "2nd question geogebra:https://www.geogebra.org/calculator/ghymks7a"
      ]
    },
    {
      "cell_type": "markdown",
      "metadata": {
        "id": "o2SvttE0Szta"
      },
      "source": [
        "# Function Calculations at \\(x = 2\\)\n",
        "\n",
        "---\n",
        "\n",
        "### 1. \\( f(x) = x^2 \\)\n",
        "\\[\n",
        "f(2) = 2^2 = 4\n",
        "\\]\n",
        "\n",
        "### 2. \\( g(x) = \\sqrt{x} \\)\n",
        "\\[\n",
        "g(2) = \\sqrt{2} \\approx 1.414\n",
        "\\]\n",
        "\n",
        "### 3. \\( h(x) = \\frac{1}{x} \\)\n",
        "\\[\n",
        "h(2) = \\frac{1}{2} = 0.5\n",
        "\\]\n",
        "\n",
        "### 4. \\( j(x) = \\sin(x) \\)\n",
        "\\[\n",
        "j(2) = \\sin(2) \\approx 0.909\n",
        "\\]\n",
        "\n",
        "---\n"
      ]
    }
  ],
  "metadata": {
    "colab": {
      "provenance": []
    },
    "kernelspec": {
      "display_name": "Python 3",
      "name": "python3"
    },
    "language_info": {
      "name": "python"
    }
  },
  "nbformat": 4,
  "nbformat_minor": 0
}
