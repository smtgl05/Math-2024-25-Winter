{
  "cells": [
    {
      "cell_type": "markdown",
      "metadata": {
        "id": "E47-SGWNlc_P"
      },
      "source": [
        "# Useful Formulas for Limits and Asymptotes\n",
        "\n",
        "## 1. Limits of Rational Functions\n",
        "- For $\\displaystyle \\lim_{x \\to \\infty} \\frac{P(x)}{Q(x)}$ where $P(x)$ and $Q(x)$ are polynomials:\n",
        "  - If the degree of $P(x)$ < degree of $Q(x)$, then $\\displaystyle \\lim_{x \\to \\infty} \\frac{P(x)}{Q(x)} = 0$.\n",
        "  - If the degree of $P(x)$ = degree of $Q(x)$, then the limit equals the ratio of leading coefficients.\n",
        "  - If the degree of $P(x)$ > degree of $Q(x)$, then $\\displaystyle \\lim_{x \\to \\infty} \\frac{P(x)}{Q(x)} = \\infty$ or $-\\infty$.\n",
        "\n",
        "## 2. Trigonometric Limits\n",
        "- Standard limits:\n",
        "  - $\\displaystyle \\lim_{x \\to 0} \\frac{\\sin(x)}{x} = 1$  \n",
        "  - $\\displaystyle \\lim_{x \\to 0} \\frac{\\cos(x) - 1}{x} = 0$.\n",
        "\n",
        "- A linear multiplier inside $\\sin$:\n",
        "  - $\\displaystyle \\lim_{x \\to 0} \\frac{\\sin(kx)}{kx} = 1 \\ \\text{where k is a constant}$.\n",
        "\n",
        "## 3. Horizontal Asymptotes\n",
        "- For a rational function $\\displaystyle f(x) = \\frac{P(x)}{Q(x)}$:\n",
        "  - Horizontal asymptotes depend on the degree of $P(x)$ and $Q(x)$:\n",
        "    - Degree of $P(x)$ < degree of $Q(x)$: Horizontal asymptote at $y = 0$.\n",
        "    - Degree of $P(x)$ = degree of $Q(x)$: Horizontal asymptote at $y = \\frac{a}{b}$ where $a$ and $b$ are leading coefficients.\n",
        "    - Degree of $P(x)$ > degree of $Q(x)$: No horizontal asymptote.\n",
        "\n",
        "## 4. Vertical Asymptotes\n",
        "- Vertical asymptotes occur at $x = a$ where the denominator equals zero but the numerator does not:  \n",
        "  - $\\displaystyle \\lim_{x \\to a} f(x) = \\infty$ or $-\\infty$.\n",
        "\n",
        "## 5. Special Limits\n",
        "- For small $x$ (near $0$), approximations:\n",
        "  - $\\sin(x) \\approx x$  \n",
        "  - $\\cos(x) \\approx 1 - \\frac{x^2}{2}$  \n"
      ]
    },
    {
      "cell_type": "markdown",
      "metadata": {
        "id": "nCH7XsWflqhT"
      },
      "source": [
        "#Exercises\n",
        "Limits of Real Functions\n",
        "\n",
        "1. Compute:\n",
        "   - $\\displaystyle\\lim_{x \\to \\infty} \\frac{x^3 + 2x^2}{x^4 - 3x^3}$\n",
        "\n",
        "2. Find:\n",
        "   \n",
        "   - $\\displaystyle \\lim_{x \\to 0} \\frac{\\sin(3x)}{2x+1}$.\n",
        "\n",
        "4. Find the asymptotes of the function:\n",
        "  \n",
        "   - $f(x) = \\frac{x^2 - 1}{x^2 + 1}$\n",
        "   - $g(x) = \\frac{\\sin(x)}{x^2+1}$\n"
      ]
    },
    {
      "cell_type": "markdown",
      "metadata": {
        "id": "1p90lm6-q7V-"
      },
      "source": [
        "#3rd Question\n",
        "# Asymptotes of the Functions\n",
        "\n",
        "## 1. \\( f(x) = \\frac{x^2 - 1}{x^2 + 1} \\)\n",
        "\n",
        "- **Horizontal Asymptote**:  \n",
        "  Degrees of numerator and denominator are equal (\\(2\\)).  \n",
        "  Ratio of leading coefficients:  \n",
        "  $$\n",
        "  y = \\frac{1}{1} = 1\n",
        "  $$\n",
        "\n",
        "- **Vertical Asymptote**:  \n",
        "  Denominator \\(x^2 + 1 = 0\\) has no real solutions.  \n",
        "  **None**.\n",
        "\n",
        "---\n",
        "\n",
        "## 2. \\( g(x) = \\frac{\\sin(x)}{x^2 + 1} \\)\n",
        "\n",
        "- **Horizontal Asymptote**:  \n",
        "  As \\(x \\to \\pm \\infty\\), numerator \\(\\sin(x)\\) is bounded, denominator \\(\\to \\infty\\):  \n",
        "  $$\n",
        "  y = 0\n",
        "  $$\n",
        "\n",
        "- **Vertical Asymptote**:  \n",
        "  Denominator \\(x^2 + 1 = 0\\) has no real solutions.  \n",
        "  **None**.\n"
      ]
    },
    {
      "cell_type": "markdown",
      "metadata": {
        "id": "xG1wobJ8r2Hj"
      },
      "source": [
        "#geogebra visualization : https://www.geogebra.org/calculator/oplak756s"
      ]
    },
    {
      "cell_type": "markdown",
      "metadata": {
        "id": "J3x2wudVpUPD"
      },
      "source": [
        "#2nd Question\n",
        "# Solution to the Limit Problem\n",
        "\n",
        "To compute:  \n",
        "$$\n",
        "\\lim_{x \\to 0} \\frac{\\sin(3x)}{2x + 1}\n",
        "$$\n",
        "\n",
        "---\n",
        "\n",
        "### Step 1: Recall the standard limit\n",
        "We know that:  \n",
        "$$\n",
        "\\lim_{x \\to 0} \\frac{\\sin(kx)}{kx} = 1 \\quad \\text{(where \\(k\\) is a constant)}.\n",
        "$$\n",
        "\n",
        "Here, since the argument of sine is \\(3x\\), we take \\(k = 3\\). Therefore:  \n",
        "$$\n",
        "\\lim_{x \\to 0} \\frac{\\sin(3x)}{3x} = 1.\n",
        "$$\n",
        "\n",
        "---\n",
        "\n",
        "### Step 2: Rewrite the given expression\n",
        "To match the standard form, factor out \\(3\\):  \n",
        "$$\n",
        "\\frac{\\sin(3x)}{2x + 1} = \\frac{\\sin(3x)}{3x} \\cdot \\frac{3x}{2x + 1}.\n",
        "$$\n",
        "\n",
        "---\n",
        "\n",
        "### Step 3: Take the limit of each part\n",
        "1. From the standard limit:  \n",
        "   $$\n",
        "   \\lim_{x \\to 0} \\frac{\\sin(3x)}{3x} = 1.\n",
        "   $$\n",
        "\n",
        "2. For the second part \\( \\frac{3x}{2x + 1} \\), as \\(x \\to 0\\):  \n",
        "   - The numerator \\(3x \\to 0\\).  \n",
        "   - The denominator \\(2x + 1 \\to 1\\).  \n",
        "\n",
        "   Thus:  \n",
        "   $$\n",
        "   \\lim_{x \\to 0} \\frac{3x}{2x + 1} = 0.\n",
        "   $$\n",
        "\n",
        "---\n",
        "\n"
      ]
    },
    {
      "cell_type": "markdown",
      "metadata": {
        "id": "nYpn9SZpplSi"
      },
      "source": [
        "Geogebra visualization : https://www.geogebra.org/calculator/xnumhjg8a1"
      ]
    },
    {
      "cell_type": "code",
      "execution_count": 1,
      "metadata": {
        "colab": {
          "base_uri": "https://localhost:8080/"
        },
        "id": "S3I3mDHpnrqx",
        "outputId": "fbb82d07-f915-4a92-81cb-a171d9f2d614"
      },
      "outputs": [
        {
          "name": "stdout",
          "output_type": "stream",
          "text": [
            "The limit as x approaches infinity is: 0\n"
          ]
        }
      ],
      "source": [
        "#1st Question\n",
        "\n",
        "import sympy as sp\n",
        "\n",
        "# Define the variable\n",
        "x = sp.symbols('x')\n",
        "\n",
        "# Define the function\n",
        "expr = (x**3 + 2*x**2) / (x**4 - 3*x**3)\n",
        "\n",
        "# Compute the limit as x approaches infinity\n",
        "limit_result = sp.limit(expr, x, sp.oo)\n",
        "\n",
        "# Print the result\n",
        "print(\"The limit as x approaches infinity is:\", limit_result)\n"
      ]
    },
    {
      "cell_type": "markdown",
      "metadata": {
        "id": "juku6a1Im1eJ"
      },
      "source": [
        "Geogebra visualization : https://www.geogebra.org/calculator/rfshtyz2nmd"
      ]
    }
  ],
  "metadata": {
    "colab": {
      "provenance": []
    },
    "kernelspec": {
      "display_name": "Python 3",
      "name": "python3"
    },
    "language_info": {
      "name": "python"
    }
  },
  "nbformat": 4,
  "nbformat_minor": 0
}
